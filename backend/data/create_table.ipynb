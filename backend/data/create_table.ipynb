{
 "cells": [
  {
   "cell_type": "code",
   "execution_count": 1,
   "id": "6c33a668",
   "metadata": {},
   "outputs": [],
   "source": [
    "import duckdb"
   ]
  },
  {
   "cell_type": "code",
   "execution_count": 2,
   "id": "8c5dff07",
   "metadata": {},
   "outputs": [],
   "source": [
    "con = duckdb.connect(database='duckdb-test.db')\n",
    "\n",
    "con.sql(\n",
    "\"\"\"\n",
    "CREATE TABLE \n",
    "    aisdk_log(MMSI BIGINT, \n",
    "        segment_id HUGEINT, \n",
    "        start_time TIMESTAMP, \n",
    "        end_time TIMESTAMP, \n",
    "        path_points STRUCT(Latitude DOUBLE, Longitude DOUBLE)[], \n",
    "        avg_latitude DOUBLE, \n",
    "        avg_longitude DOUBLE, total_distance_km DOUBLE, avg_sog DOUBLE, max_sog DOUBLE, min_sog DOUBLE, avg_cog DOUBLE, max_cog_change DOUBLE, start_latitude DOUBLE, start_longitude DOUBLE, end_latitude DOUBLE, end_longitude DOUBLE, n_points BIGINT, duration_minutes DOUBLE, kk UUID DEFAULT(NULL))\n",
    "\"\"\"\n",
    ")"
   ]
  },
  {
   "cell_type": "code",
   "execution_count": 3,
   "id": "d5962d22",
   "metadata": {},
   "outputs": [
    {
     "data": {
      "text/plain": [
       "<duckdb.duckdb.DuckDBPyConnection at 0x10431ff70>"
      ]
     },
     "execution_count": 3,
     "metadata": {},
     "output_type": "execute_result"
    }
   ],
   "source": [
    "con.commit()"
   ]
  },
  {
   "cell_type": "code",
   "execution_count": 4,
   "id": "5ea38598",
   "metadata": {},
   "outputs": [],
   "source": [
    "con.close()"
   ]
  },
  {
   "cell_type": "code",
   "execution_count": null,
   "id": "0683e3c1",
   "metadata": {},
   "outputs": [],
   "source": []
  }
 ],
 "metadata": {
  "kernelspec": {
   "display_name": "Python 3 (ipykernel)",
   "language": "python",
   "name": "python3"
  }
 },
 "nbformat": 4,
 "nbformat_minor": 5
}
